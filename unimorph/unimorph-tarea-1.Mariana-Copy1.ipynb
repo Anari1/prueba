{
 "cells": [
  {
   "cell_type": "markdown",
   "metadata": {
    "id": "da0bd54e"
   },
   "source": [
    "### Algunos experimentos simples con datos de unimorph (lengua: elija 1 en [link](https://github.com/unimorph))\n",
    "#### Mini introducción al procesamiento de una lengua (y algo sobre diccionarios)"
   ]
  },
  {
   "cell_type": "code",
   "execution_count": 1,
   "metadata": {
    "executionInfo": {
     "elapsed": 474,
     "status": "ok",
     "timestamp": 1631297418669,
     "user": {
      "displayName": "Javier Maximiliano Vera Zuñiga",
      "photoUrl": "https://lh3.googleusercontent.com/a/default-user=s64",
      "userId": "16439660197950043005"
     },
     "user_tz": 180
    },
    "id": "29e71e42"
   },
   "outputs": [],
   "source": [
    "## https://github.com/unimorph/ame\n",
    "## usamos un poco de magia para leer los datos \n",
    "\n",
    "import pandas as pd\n",
    "\n",
    "datos = pd.read_csv('sme', sep='\\t', header=None)\n",
    "datos.columns = ['formas','inflexiones','códigos']"
   ]
  },
  {
   "cell_type": "code",
   "execution_count": 2,
   "metadata": {
    "colab": {
     "base_uri": "https://localhost:8080/",
     "height": 417
    },
    "executionInfo": {
     "elapsed": 345,
     "status": "ok",
     "timestamp": 1631297425174,
     "user": {
      "displayName": "Javier Maximiliano Vera Zuñiga",
      "photoUrl": "https://lh3.googleusercontent.com/a/default-user=s64",
      "userId": "16439660197950043005"
     },
     "user_tz": 180
    },
    "id": "4c0b21b7",
    "outputId": "1ed7d9b4-e361-46dd-e984-2c5243803f2b"
   },
   "outputs": [
    {
     "data": {
      "text/html": [
       "<div>\n",
       "<style scoped>\n",
       "    .dataframe tbody tr th:only-of-type {\n",
       "        vertical-align: middle;\n",
       "    }\n",
       "\n",
       "    .dataframe tbody tr th {\n",
       "        vertical-align: top;\n",
       "    }\n",
       "\n",
       "    .dataframe thead th {\n",
       "        text-align: right;\n",
       "    }\n",
       "</style>\n",
       "<table border=\"1\" class=\"dataframe\">\n",
       "  <thead>\n",
       "    <tr style=\"text-align: right;\">\n",
       "      <th></th>\n",
       "      <th>formas</th>\n",
       "      <th>inflexiones</th>\n",
       "      <th>códigos</th>\n",
       "    </tr>\n",
       "  </thead>\n",
       "  <tbody>\n",
       "    <tr>\n",
       "      <th>0</th>\n",
       "      <td>guhkimus</td>\n",
       "      <td>guhkimussan</td>\n",
       "      <td>ADJ;FRML;SG</td>\n",
       "    </tr>\n",
       "    <tr>\n",
       "      <th>1</th>\n",
       "      <td>guhkimus</td>\n",
       "      <td>guhkimusaid</td>\n",
       "      <td>ADJ;GEN;PL</td>\n",
       "    </tr>\n",
       "    <tr>\n",
       "      <th>2</th>\n",
       "      <td>guhkimus</td>\n",
       "      <td>guhkimusa</td>\n",
       "      <td>ADJ;ACC;SG</td>\n",
       "    </tr>\n",
       "    <tr>\n",
       "      <th>3</th>\n",
       "      <td>guhkimus</td>\n",
       "      <td>guhkimusa</td>\n",
       "      <td>ADJ;GEN;SG</td>\n",
       "    </tr>\n",
       "    <tr>\n",
       "      <th>4</th>\n",
       "      <td>guhkimus</td>\n",
       "      <td>guhkimus</td>\n",
       "      <td>ADJ;NOM;SG</td>\n",
       "    </tr>\n",
       "    <tr>\n",
       "      <th>...</th>\n",
       "      <td>...</td>\n",
       "      <td>...</td>\n",
       "      <td>...</td>\n",
       "    </tr>\n",
       "    <tr>\n",
       "      <th>62672</th>\n",
       "      <td>gožu</td>\n",
       "      <td>gohččo</td>\n",
       "      <td>N;ACC;SG</td>\n",
       "    </tr>\n",
       "    <tr>\n",
       "      <th>62673</th>\n",
       "      <td>gožu</td>\n",
       "      <td>gohččot</td>\n",
       "      <td>N;NOM;PL</td>\n",
       "    </tr>\n",
       "    <tr>\n",
       "      <th>62674</th>\n",
       "      <td>gožu</td>\n",
       "      <td>gožu</td>\n",
       "      <td>N;NOM;SG</td>\n",
       "    </tr>\n",
       "    <tr>\n",
       "      <th>62675</th>\n",
       "      <td>gožu</td>\n",
       "      <td>gohččuide</td>\n",
       "      <td>N;IN+ALL;PL</td>\n",
       "    </tr>\n",
       "    <tr>\n",
       "      <th>62676</th>\n",
       "      <td>gožu</td>\n",
       "      <td>gohččuin</td>\n",
       "      <td>N;COM;SG</td>\n",
       "    </tr>\n",
       "  </tbody>\n",
       "</table>\n",
       "<p>62677 rows × 3 columns</p>\n",
       "</div>"
      ],
      "text/plain": [
       "         formas  inflexiones      códigos\n",
       "0      guhkimus  guhkimussan  ADJ;FRML;SG\n",
       "1      guhkimus  guhkimusaid   ADJ;GEN;PL\n",
       "2      guhkimus    guhkimusa   ADJ;ACC;SG\n",
       "3      guhkimus    guhkimusa   ADJ;GEN;SG\n",
       "4      guhkimus     guhkimus   ADJ;NOM;SG\n",
       "...         ...          ...          ...\n",
       "62672      gožu       gohččo     N;ACC;SG\n",
       "62673      gožu      gohččot     N;NOM;PL\n",
       "62674      gožu         gožu     N;NOM;SG\n",
       "62675      gožu    gohččuide  N;IN+ALL;PL\n",
       "62676      gožu     gohččuin     N;COM;SG\n",
       "\n",
       "[62677 rows x 3 columns]"
      ]
     },
     "execution_count": 2,
     "metadata": {},
     "output_type": "execute_result"
    }
   ],
   "source": [
    "## nuestros datos!!! Cada fila indica una forma original, una inflexión del verbo y las coordenadas de la inflexión.\n",
    "\n",
    "datos"
   ]
  },
  {
   "cell_type": "code",
   "execution_count": 3,
   "metadata": {},
   "outputs": [],
   "source": [
    "## Seleccionar el primer elemento del codigo e identificar las diferentes clases de palabras que hay en la lengua"
   ]
  },
  {
   "cell_type": "code",
   "execution_count": 4,
   "metadata": {},
   "outputs": [],
   "source": [
    "codigos = list(datos['códigos'])"
   ]
  },
  {
   "cell_type": "code",
   "execution_count": 5,
   "metadata": {},
   "outputs": [],
   "source": [
    "indice_cod_ext = list(range(len(codigos)))"
   ]
  },
  {
   "cell_type": "code",
   "execution_count": 6,
   "metadata": {},
   "outputs": [],
   "source": [
    "codigos_extendidos = []\n",
    "lista_cod_ext = []\n",
    "lista_cod_ext_esp = []\n",
    "\n",
    "for elemento in indice_cod_ext:\n",
    "    lista_cod_ext = codigos[elemento]\n",
    "    lista_cod_ext_esp = lista_cod_ext.split(';')\n",
    "    codigos_extendidos += [lista_cod_ext_esp]"
   ]
  },
  {
   "cell_type": "code",
   "execution_count": 14,
   "metadata": {},
   "outputs": [],
   "source": [
    "lista_lemmas_diferentes = []\n",
    "\n",
    "for lemma_diferente in codigos_extendidos:\n",
    "    if lemma_diferente not in lista_lemmas_diferentes:\n",
    "        lista_lemmas_diferentes += [lemma_diferente]"
   ]
  },
  {
   "cell_type": "code",
   "execution_count": 15,
   "metadata": {},
   "outputs": [
    {
     "data": {
      "text/plain": [
       "[['ADJ', 'FRML', 'SG'],\n",
       " ['ADJ', 'GEN', 'PL'],\n",
       " ['ADJ', 'ACC', 'SG'],\n",
       " ['ADJ', 'GEN', 'SG'],\n",
       " ['ADJ', 'NOM', 'SG'],\n",
       " ['ADJ', 'COM', 'SG'],\n",
       " ['ADJ', 'IN+ALL', 'PL'],\n",
       " ['ADJ', 'NOM', 'PL'],\n",
       " ['ADJ', 'PRP', 'SG'],\n",
       " ['ADJ', 'PRP', 'PL'],\n",
       " ['ADJ', 'COM', 'PL'],\n",
       " ['ADJ', 'ACC', 'PL'],\n",
       " ['ADJ', 'IN+ALL', 'SG'],\n",
       " ['V', 'PRS', 'IND', '1', 'DU'],\n",
       " ['V', 'PRS', 'IND', '1', 'SG'],\n",
       " ['V', 'POT', '1', 'SG'],\n",
       " ['V', 'PST', 'IND', '3', 'SG'],\n",
       " ['V', 'COND', '2', 'SG', 'LGSPEC'],\n",
       " ['V', 'PST', 'IND', '2', 'PL'],\n",
       " ['V', 'PRS', 'IND', '1', 'PL'],\n",
       " ['V', 'POT', '1', 'DU'],\n",
       " ['V', 'IMP', '3', 'PL'],\n",
       " ['V', 'COND', '3', 'PL'],\n",
       " ['V', 'COND', '3', 'DU'],\n",
       " ['V', 'COND', '2', 'PL', 'LGSPEC'],\n",
       " ['V', 'IMP', '2', 'SG'],\n",
       " ['V', 'PST', 'IND', '1', 'DU'],\n",
       " ['V', 'COND', '3', 'SG', 'LGSPEC'],\n",
       " ['V', 'IMP', '2', 'DU'],\n",
       " ['V', 'COND', '2', 'SG'],\n",
       " ['V', 'IMP', '2', 'PL'],\n",
       " ['V', 'POT', '1', 'PL'],\n",
       " ['V', 'COND', '1', 'DU', 'LGSPEC'],\n",
       " ['V', 'PST', 'IND', '3', 'PL'],\n",
       " ['V', 'COND', '3', 'PL', 'LGSPEC'],\n",
       " ['V', 'PRS', 'IND', '3', 'DU'],\n",
       " ['V', 'PRS', 'IND', '3', 'SG'],\n",
       " ['V', 'POT', '3', 'DU'],\n",
       " ['V', 'COND', '2', 'DU'],\n",
       " ['V', 'IMP', '1', 'DU'],\n",
       " ['V', 'POT', '3', 'SG'],\n",
       " ['V', 'COND', '2', 'PL'],\n",
       " ['V', 'PST', 'IND', '2', 'DU'],\n",
       " ['V', 'IMP', '1', 'PL'],\n",
       " ['V', 'IMP', '1', 'SG'],\n",
       " ['V', 'COND', '1', 'SG'],\n",
       " ['V', 'PRS', 'IND', '3', 'PL'],\n",
       " ['V', 'POT', '3', 'PL'],\n",
       " ['V', 'COND', '3', 'DU', 'LGSPEC'],\n",
       " ['V', 'COND', '2', 'DU', 'LGSPEC'],\n",
       " ['V', 'PRS', 'IND', '2', 'SG'],\n",
       " ['V', 'COND', '1', 'DU'],\n",
       " ['V', 'PST', 'IND', '3', 'DU'],\n",
       " ['V', 'PRS', 'IND', '2', 'DU'],\n",
       " ['V', 'COND', '1', 'PL'],\n",
       " ['V', 'PST', 'IND', '1', 'PL'],\n",
       " ['V', 'PST', 'IND', '1', 'SG'],\n",
       " ['V', 'COND', '1', 'SG', 'LGSPEC'],\n",
       " ['V', 'COND', '1', 'PL', 'LGSPEC'],\n",
       " ['V', 'IMP', '3', 'SG'],\n",
       " ['V', 'POT', '2', 'SG'],\n",
       " ['V', 'PRS', 'IND', '2', 'PL'],\n",
       " ['V', 'POT', '2', 'DU'],\n",
       " ['V', 'IMP', '3', 'DU'],\n",
       " ['V', 'COND', '3', 'SG'],\n",
       " ['V', 'POT', '2', 'PL'],\n",
       " ['V', 'PST', 'IND', '2', 'SG'],\n",
       " ['N', 'PRP', 'PL'],\n",
       " ['N', 'IN+ALL', 'SG'],\n",
       " ['N', 'PRP', 'SG'],\n",
       " ['N', 'ACC', 'PL'],\n",
       " ['N', 'GEN', 'SG'],\n",
       " ['N', 'COM', 'PL'],\n",
       " ['N', 'GEN', 'PL'],\n",
       " ['N', 'FRML', 'SG'],\n",
       " ['N', 'ACC', 'SG'],\n",
       " ['N', 'NOM', 'PL'],\n",
       " ['N', 'NOM', 'SG'],\n",
       " ['N', 'IN+ALL', 'PL'],\n",
       " ['N', 'COM', 'SG']]"
      ]
     },
     "execution_count": 15,
     "metadata": {},
     "output_type": "execute_result"
    }
   ],
   "source": [
    "lista_lemmas_diferentes"
   ]
  },
  {
   "cell_type": "code",
   "execution_count": 16,
   "metadata": {},
   "outputs": [],
   "source": [
    "indice_lista_lemmas_diferentes = list(range(len(lista_lemmas_diferentes)))"
   ]
  },
  {
   "cell_type": "code",
   "execution_count": 18,
   "metadata": {},
   "outputs": [
    {
     "ename": "TypeError",
     "evalue": "'int' object is not callable",
     "output_type": "error",
     "traceback": [
      "\u001b[1;31m---------------------------------------------------------------------------\u001b[0m",
      "\u001b[1;31mTypeError\u001b[0m                                 Traceback (most recent call last)",
      "\u001b[1;32m<ipython-input-18-30feedf48717>\u001b[0m in \u001b[0;36m<module>\u001b[1;34m\u001b[0m\n\u001b[0;32m      2\u001b[0m \u001b[1;33m\u001b[0m\u001b[0m\n\u001b[0;32m      3\u001b[0m \u001b[1;32mfor\u001b[0m \u001b[0melemento\u001b[0m \u001b[1;32min\u001b[0m \u001b[0mindice_lista_lemmas_diferentes\u001b[0m\u001b[1;33m:\u001b[0m\u001b[1;33m\u001b[0m\u001b[1;33m\u001b[0m\u001b[0m\n\u001b[1;32m----> 4\u001b[1;33m     \u001b[0mlemma\u001b[0m \u001b[1;33m=\u001b[0m \u001b[0melemento\u001b[0m \u001b[1;33m(\u001b[0m\u001b[1;36m0\u001b[0m\u001b[1;33m)\u001b[0m\u001b[1;33m\u001b[0m\u001b[1;33m\u001b[0m\u001b[0m\n\u001b[0m\u001b[0;32m      5\u001b[0m     \u001b[1;32mif\u001b[0m \u001b[0mlemma\u001b[0m \u001b[1;32mnot\u001b[0m \u001b[1;32min\u001b[0m \u001b[0mlista_lemmas\u001b[0m\u001b[1;33m:\u001b[0m\u001b[1;33m\u001b[0m\u001b[1;33m\u001b[0m\u001b[0m\n\u001b[0;32m      6\u001b[0m         \u001b[0mlista_lemmas\u001b[0m \u001b[1;33m+=\u001b[0m \u001b[1;33m[\u001b[0m\u001b[0mlemma\u001b[0m\u001b[1;33m]\u001b[0m\u001b[1;33m\u001b[0m\u001b[1;33m\u001b[0m\u001b[0m\n",
      "\u001b[1;31mTypeError\u001b[0m: 'int' object is not callable"
     ]
    }
   ],
   "source": [
    "lista_lemmas = []\n",
    "\n",
    "for elemento in indice_lista_lemmas_diferentes:\n",
    "    lemma = elemento (0)\n",
    "    if lemma not in lista_lemmas:\n",
    "        lista_lemmas += [lemma]"
   ]
  },
  {
   "cell_type": "code",
   "execution_count": 11,
   "metadata": {},
   "outputs": [
    {
     "data": {
      "text/plain": [
       "[]"
      ]
     },
     "execution_count": 11,
     "metadata": {},
     "output_type": "execute_result"
    }
   ],
   "source": [
    "lista_lemmas"
   ]
  },
  {
   "cell_type": "code",
   "execution_count": null,
   "metadata": {},
   "outputs": [],
   "source": []
  },
  {
   "cell_type": "code",
   "execution_count": null,
   "metadata": {},
   "outputs": [],
   "source": []
  },
  {
   "cell_type": "code",
   "execution_count": null,
   "metadata": {},
   "outputs": [],
   "source": []
  },
  {
   "cell_type": "code",
   "execution_count": null,
   "metadata": {},
   "outputs": [],
   "source": []
  },
  {
   "cell_type": "code",
   "execution_count": null,
   "metadata": {},
   "outputs": [],
   "source": []
  },
  {
   "cell_type": "code",
   "execution_count": null,
   "metadata": {},
   "outputs": [],
   "source": []
  },
  {
   "cell_type": "code",
   "execution_count": 304,
   "metadata": {
    "colab": {
     "base_uri": "https://localhost:8080/"
    },
    "executionInfo": {
     "elapsed": 477,
     "status": "ok",
     "timestamp": 1631297427945,
     "user": {
      "displayName": "Javier Maximiliano Vera Zuñiga",
      "photoUrl": "https://lh3.googleusercontent.com/a/default-user=s64",
      "userId": "16439660197950043005"
     },
     "user_tz": 180
    },
    "id": "9ca11143",
    "outputId": "2832877a-d5a4-4cb5-955f-9dd367c5bfc5"
   },
   "outputs": [
    {
     "data": {
      "text/plain": [
       "26       guhkkat\n",
       "27       guhkkat\n",
       "28       guhkkat\n",
       "29       guhkkat\n",
       "30       guhkkat\n",
       "          ...   \n",
       "62659     gođđat\n",
       "62660     gođđat\n",
       "62661     gođđat\n",
       "62662     gođđat\n",
       "62663     gođđat\n",
       "Name: formas, Length: 46836, dtype: object"
      ]
     },
     "execution_count": 304,
     "metadata": {},
     "output_type": "execute_result"
    }
   ],
   "source": [
    "## A continuación, creamos las listas correspondientes a cada columna para poder trabajar con los datos.                                                                                                           \n",
    "datos['formas']"
   ]
  },
  {
   "cell_type": "code",
   "execution_count": 305,
   "metadata": {
    "executionInfo": {
     "elapsed": 7,
     "status": "ok",
     "timestamp": 1631297430562,
     "user": {
      "displayName": "Javier Maximiliano Vera Zuñiga",
      "photoUrl": "https://lh3.googleusercontent.com/a/default-user=s64",
      "userId": "16439660197950043005"
     },
     "user_tz": 180
    },
    "id": "54fea3ee"
   },
   "outputs": [],
   "source": [
    "formas = list(datos['formas'])"
   ]
  },
  {
   "cell_type": "code",
   "execution_count": 306,
   "metadata": {
    "colab": {
     "base_uri": "https://localhost:8080/"
    },
    "executionInfo": {
     "elapsed": 329,
     "status": "ok",
     "timestamp": 1631297433613,
     "user": {
      "displayName": "Javier Maximiliano Vera Zuñiga",
      "photoUrl": "https://lh3.googleusercontent.com/a/default-user=s64",
      "userId": "16439660197950043005"
     },
     "user_tz": 180
    },
    "id": "78d02341",
    "outputId": "1a613c4a-d462-487b-bff4-fd65951a6a3e"
   },
   "outputs": [
    {
     "data": {
      "text/plain": [
       "['guhkkat', 'guhkkat', 'guhkkat', 'guhkkat', 'guhkkat']"
      ]
     },
     "execution_count": 306,
     "metadata": {},
     "output_type": "execute_result"
    }
   ],
   "source": [
    "formas[:5]"
   ]
  },
  {
   "cell_type": "code",
   "execution_count": 307,
   "metadata": {
    "executionInfo": {
     "elapsed": 356,
     "status": "ok",
     "timestamp": 1631297435989,
     "user": {
      "displayName": "Javier Maximiliano Vera Zuñiga",
      "photoUrl": "https://lh3.googleusercontent.com/a/default-user=s64",
      "userId": "16439660197950043005"
     },
     "user_tz": 180
    },
    "id": "3f6a30b8"
   },
   "outputs": [],
   "source": [
    "inflexiones = list(datos['inflexiones'])"
   ]
  },
  {
   "cell_type": "code",
   "execution_count": 308,
   "metadata": {
    "colab": {
     "base_uri": "https://localhost:8080/"
    },
    "executionInfo": {
     "elapsed": 367,
     "status": "ok",
     "timestamp": 1631297438454,
     "user": {
      "displayName": "Javier Maximiliano Vera Zuñiga",
      "photoUrl": "https://lh3.googleusercontent.com/a/default-user=s64",
      "userId": "16439660197950043005"
     },
     "user_tz": 180
    },
    "id": "e2b2d27f",
    "outputId": "8c85734b-2fb8-4edd-a3f7-fde4912ee138"
   },
   "outputs": [
    {
     "data": {
      "text/plain": [
       "['guhkke', 'guhkan', 'guhkažan', 'guhkai', 'guhkalit']"
      ]
     },
     "execution_count": 308,
     "metadata": {},
     "output_type": "execute_result"
    }
   ],
   "source": [
    "inflexiones[:5]"
   ]
  },
  {
   "cell_type": "code",
   "execution_count": 309,
   "metadata": {
    "executionInfo": {
     "elapsed": 334,
     "status": "ok",
     "timestamp": 1631297441233,
     "user": {
      "displayName": "Javier Maximiliano Vera Zuñiga",
      "photoUrl": "https://lh3.googleusercontent.com/a/default-user=s64",
      "userId": "16439660197950043005"
     },
     "user_tz": 180
    },
    "id": "971ed68c"
   },
   "outputs": [],
   "source": [
    "codigos = list(datos['códigos'])"
   ]
  },
  {
   "cell_type": "code",
   "execution_count": 310,
   "metadata": {
    "colab": {
     "base_uri": "https://localhost:8080/"
    },
    "executionInfo": {
     "elapsed": 5,
     "status": "ok",
     "timestamp": 1631297443373,
     "user": {
      "displayName": "Javier Maximiliano Vera Zuñiga",
      "photoUrl": "https://lh3.googleusercontent.com/a/default-user=s64",
      "userId": "16439660197950043005"
     },
     "user_tz": 180
    },
    "id": "c0e3f70c",
    "outputId": "e8f492db-ab09-445b-cb03-e868c9dac2de"
   },
   "outputs": [
    {
     "data": {
      "text/plain": [
       "['V;PRS;IND;1;DU',\n",
       " 'V;PRS;IND;1;SG',\n",
       " 'V;POT;1;SG',\n",
       " 'V;PST;IND;3;SG',\n",
       " 'V;COND;2;SG;LGSPEC']"
      ]
     },
     "execution_count": 310,
     "metadata": {},
     "output_type": "execute_result"
    }
   ],
   "source": [
    "codigos[:5]"
   ]
  },
  {
   "cell_type": "markdown",
   "metadata": {
    "id": "7c1857b4"
   },
   "source": [
    "Algunas preguntas simples:\n",
    "\n",
    "- Defina la lista formas_unicas, que contiene todas las formas sin repeticiones. Identifique el número de formas verbales distintas.\n",
    "- Identifique el número de inflexiones distintas.\n",
    "- En promedio, ¿Cúantas inflexiones distintas están asociadas a una forma verbal en la lengua elegida?"
   ]
  },
  {
   "cell_type": "code",
   "execution_count": 311,
   "metadata": {
    "colab": {
     "base_uri": "https://localhost:8080/"
    },
    "executionInfo": {
     "elapsed": 339,
     "status": "ok",
     "timestamp": 1631297447777,
     "user": {
      "displayName": "Javier Maximiliano Vera Zuñiga",
      "photoUrl": "https://lh3.googleusercontent.com/a/default-user=s64",
      "userId": "16439660197950043005"
     },
     "user_tz": 180
    },
    "id": "8145b2ba",
    "outputId": "1ecf36d8-7a21-41f3-ad6c-bb89b2288cde"
   },
   "outputs": [
    {
     "data": {
      "text/plain": [
       "46836"
      ]
     },
     "execution_count": 311,
     "metadata": {},
     "output_type": "execute_result"
    }
   ],
   "source": [
    "len(formas)"
   ]
  },
  {
   "cell_type": "code",
   "execution_count": 312,
   "metadata": {
    "executionInfo": {
     "elapsed": 368,
     "status": "ok",
     "timestamp": 1631297451199,
     "user": {
      "displayName": "Javier Maximiliano Vera Zuñiga",
      "photoUrl": "https://lh3.googleusercontent.com/a/default-user=s64",
      "userId": "16439660197950043005"
     },
     "user_tz": 180
    },
    "id": "a2adf225"
   },
   "outputs": [],
   "source": [
    "formas_unicas = []\n",
    "\n",
    "for elemento in formas:\n",
    "    ## si elemento ya está en la lista formas_unicas, entonces no lo guardo\n",
    "    if elemento not in formas_unicas:\n",
    "        formas_unicas += [elemento]"
   ]
  },
  {
   "cell_type": "code",
   "execution_count": 313,
   "metadata": {
    "colab": {
     "base_uri": "https://localhost:8080/"
    },
    "executionInfo": {
     "elapsed": 433,
     "status": "ok",
     "timestamp": 1631297453677,
     "user": {
      "displayName": "Javier Maximiliano Vera Zuñiga",
      "photoUrl": "https://lh3.googleusercontent.com/a/default-user=s64",
      "userId": "16439660197950043005"
     },
     "user_tz": 180
    },
    "id": "ae5c8b1d",
    "outputId": "118c0dc1-51c1-4f3c-9d54-654f8fd546a0"
   },
   "outputs": [
    {
     "data": {
      "text/plain": [
       "['guhkkat',\n",
       " 'gulcat',\n",
       " 'gulkat',\n",
       " 'gullat',\n",
       " 'guoddit',\n",
       " 'guoggut',\n",
       " 'guoggát',\n",
       " 'guohkkat',\n",
       " 'guoirat',\n",
       " 'guolbmat']"
      ]
     },
     "execution_count": 313,
     "metadata": {},
     "output_type": "execute_result"
    }
   ],
   "source": [
    "formas_unicas[:10]"
   ]
  },
  {
   "cell_type": "code",
   "execution_count": 314,
   "metadata": {
    "colab": {
     "base_uri": "https://localhost:8080/"
    },
    "executionInfo": {
     "elapsed": 354,
     "status": "ok",
     "timestamp": 1631297455933,
     "user": {
      "displayName": "Javier Maximiliano Vera Zuñiga",
      "photoUrl": "https://lh3.googleusercontent.com/a/default-user=s64",
      "userId": "16439660197950043005"
     },
     "user_tz": 180
    },
    "id": "c608089f",
    "outputId": "2fddd579-383c-4ee7-d9e2-f06f12970437"
   },
   "outputs": [
    {
     "data": {
      "text/plain": [
       "881"
      ]
     },
     "execution_count": 314,
     "metadata": {},
     "output_type": "execute_result"
    }
   ],
   "source": [
    "len(formas_unicas)"
   ]
  },
  {
   "cell_type": "code",
   "execution_count": 315,
   "metadata": {
    "colab": {
     "base_uri": "https://localhost:8080/"
    },
    "executionInfo": {
     "elapsed": 357,
     "status": "ok",
     "timestamp": 1631297458429,
     "user": {
      "displayName": "Javier Maximiliano Vera Zuñiga",
      "photoUrl": "https://lh3.googleusercontent.com/a/default-user=s64",
      "userId": "16439660197950043005"
     },
     "user_tz": 180
    },
    "id": "e4547081",
    "outputId": "543fabac-3c8e-43ae-ffb3-f21fd3cc92b7"
   },
   "outputs": [
    {
     "data": {
      "text/plain": [
       "46836"
      ]
     },
     "execution_count": 315,
     "metadata": {},
     "output_type": "execute_result"
    }
   ],
   "source": [
    "len(inflexiones)"
   ]
  },
  {
   "cell_type": "code",
   "execution_count": 316,
   "metadata": {
    "executionInfo": {
     "elapsed": 367,
     "status": "ok",
     "timestamp": 1631297460587,
     "user": {
      "displayName": "Javier Maximiliano Vera Zuñiga",
      "photoUrl": "https://lh3.googleusercontent.com/a/default-user=s64",
      "userId": "16439660197950043005"
     },
     "user_tz": 180
    },
    "id": "6351939e"
   },
   "outputs": [],
   "source": [
    "inflexiones_unicas = []\n",
    "\n",
    "for elemento in inflexiones:\n",
    "    ## si elemento ya está en la lista formas_unicas, entonces no lo guardo\n",
    "    if elemento not in inflexiones_unicas:\n",
    "        inflexiones_unicas += [elemento]"
   ]
  },
  {
   "cell_type": "code",
   "execution_count": 317,
   "metadata": {
    "colab": {
     "base_uri": "https://localhost:8080/"
    },
    "executionInfo": {
     "elapsed": 471,
     "status": "ok",
     "timestamp": 1631297463277,
     "user": {
      "displayName": "Javier Maximiliano Vera Zuñiga",
      "photoUrl": "https://lh3.googleusercontent.com/a/default-user=s64",
      "userId": "16439660197950043005"
     },
     "user_tz": 180
    },
    "id": "a26ce7d2",
    "outputId": "ba5c5d18-c0e2-4eb0-e551-e882577ba509"
   },
   "outputs": [
    {
     "data": {
      "text/plain": [
       "42524"
      ]
     },
     "execution_count": 317,
     "metadata": {},
     "output_type": "execute_result"
    }
   ],
   "source": [
    "len(inflexiones_unicas)"
   ]
  },
  {
   "cell_type": "code",
   "execution_count": 318,
   "metadata": {},
   "outputs": [
    {
     "data": {
      "text/plain": [
       "48.26787741203178"
      ]
     },
     "execution_count": 318,
     "metadata": {},
     "output_type": "execute_result"
    }
   ],
   "source": [
    "len(inflexiones_unicas) / len (formas_unicas)"
   ]
  },
  {
   "cell_type": "code",
   "execution_count": 319,
   "metadata": {
    "colab": {
     "base_uri": "https://localhost:8080/"
    },
    "executionInfo": {
     "elapsed": 340,
     "status": "ok",
     "timestamp": 1631297468147,
     "user": {
      "displayName": "Javier Maximiliano Vera Zuñiga",
      "photoUrl": "https://lh3.googleusercontent.com/a/default-user=s64",
      "userId": "16439660197950043005"
     },
     "user_tz": 180
    },
    "id": "f9c1f15d",
    "outputId": "890212c9-31e0-4db1-9047-0136a87df3c7"
   },
   "outputs": [
    {
     "data": {
      "text/plain": [
       "46836"
      ]
     },
     "execution_count": 319,
     "metadata": {},
     "output_type": "execute_result"
    }
   ],
   "source": [
    "len(codigos)"
   ]
  },
  {
   "cell_type": "code",
   "execution_count": 320,
   "metadata": {
    "colab": {
     "base_uri": "https://localhost:8080/"
    },
    "executionInfo": {
     "elapsed": 371,
     "status": "ok",
     "timestamp": 1631297470783,
     "user": {
      "displayName": "Javier Maximiliano Vera Zuñiga",
      "photoUrl": "https://lh3.googleusercontent.com/a/default-user=s64",
      "userId": "16439660197950043005"
     },
     "user_tz": 180
    },
    "id": "b0c978dc",
    "outputId": "7a876234-3bb5-4e5e-a169-8f1d27ea2595"
   },
   "outputs": [
    {
     "data": {
      "text/plain": [
       "['V;PRS;IND;1;DU',\n",
       " 'V;PRS;IND;1;SG',\n",
       " 'V;POT;1;SG',\n",
       " 'V;PST;IND;3;SG',\n",
       " 'V;COND;2;SG;LGSPEC',\n",
       " 'V;PST;IND;2;PL',\n",
       " 'V;PRS;IND;1;PL',\n",
       " 'V;POT;1;DU',\n",
       " 'V;IMP;3;PL',\n",
       " 'V;COND;3;PL']"
      ]
     },
     "execution_count": 320,
     "metadata": {},
     "output_type": "execute_result"
    }
   ],
   "source": [
    "codigos[:10]"
   ]
  },
  {
   "cell_type": "markdown",
   "metadata": {},
   "source": [
    "Un pequeño ejercicio con listas y ciclos for:\n",
    "\n",
    "- Defina la lista codigos_unicos, que contiene los códigos únicos ¿Cúantos códigos distintos hay?\n",
    "- Defina la lista codigos_extendidos, en que cada posición es una lista de tokens, por ejemplo,\n",
    "```python:\n",
    "codigos_extendidos = [['V','NFIN'],...]\n",
    "```\n",
    "\n",
    "- A partir de la lista anterior, defina la lista numero_codigos, que contiene el número de códigos asociados a cada inflexión.\n",
    "- En promedio, ¿Cuántos códigos están asociados a una inflexión?"
   ]
  },
  {
   "cell_type": "code",
   "execution_count": 321,
   "metadata": {
    "executionInfo": {
     "elapsed": 587,
     "status": "ok",
     "timestamp": 1631297473808,
     "user": {
      "displayName": "Javier Maximiliano Vera Zuñiga",
      "photoUrl": "https://lh3.googleusercontent.com/a/default-user=s64",
      "userId": "16439660197950043005"
     },
     "user_tz": 180
    },
    "id": "7a67cbaf"
   },
   "outputs": [],
   "source": [
    "codigos_unicos = []\n",
    "\n",
    "for codigo in codigos:\n",
    "    if codigo not in codigos_unicos:\n",
    "        codigos_unicos += [codigo]"
   ]
  },
  {
   "cell_type": "code",
   "execution_count": 322,
   "metadata": {
    "colab": {
     "base_uri": "https://localhost:8080/"
    },
    "executionInfo": {
     "elapsed": 348,
     "status": "ok",
     "timestamp": 1631297476299,
     "user": {
      "displayName": "Javier Maximiliano Vera Zuñiga",
      "photoUrl": "https://lh3.googleusercontent.com/a/default-user=s64",
      "userId": "16439660197950043005"
     },
     "user_tz": 180
    },
    "id": "f0e53ba6",
    "outputId": "b39d5a70-6bda-4342-915f-52048cdb20ee"
   },
   "outputs": [
    {
     "data": {
      "text/plain": [
       "54"
      ]
     },
     "execution_count": 322,
     "metadata": {},
     "output_type": "execute_result"
    }
   ],
   "source": [
    "len(codigos_unicos)"
   ]
  },
  {
   "cell_type": "code",
   "execution_count": 323,
   "metadata": {
    "colab": {
     "base_uri": "https://localhost:8080/"
    },
    "executionInfo": {
     "elapsed": 334,
     "status": "ok",
     "timestamp": 1631297478839,
     "user": {
      "displayName": "Javier Maximiliano Vera Zuñiga",
      "photoUrl": "https://lh3.googleusercontent.com/a/default-user=s64",
      "userId": "16439660197950043005"
     },
     "user_tz": 180
    },
    "id": "651afec8",
    "outputId": "bd26ead8-d199-4ae9-972d-6542d0f78c5a"
   },
   "outputs": [
    {
     "data": {
      "text/plain": [
       "['V;PRS;IND;1;DU',\n",
       " 'V;PRS;IND;1;SG',\n",
       " 'V;POT;1;SG',\n",
       " 'V;PST;IND;3;SG',\n",
       " 'V;COND;2;SG;LGSPEC',\n",
       " 'V;PST;IND;2;PL',\n",
       " 'V;PRS;IND;1;PL',\n",
       " 'V;POT;1;DU',\n",
       " 'V;IMP;3;PL',\n",
       " 'V;COND;3;PL',\n",
       " 'V;COND;3;DU',\n",
       " 'V;COND;2;PL;LGSPEC',\n",
       " 'V;IMP;2;SG',\n",
       " 'V;PST;IND;1;DU',\n",
       " 'V;COND;3;SG;LGSPEC',\n",
       " 'V;IMP;2;DU',\n",
       " 'V;COND;2;SG',\n",
       " 'V;IMP;2;PL',\n",
       " 'V;POT;1;PL',\n",
       " 'V;COND;1;DU;LGSPEC',\n",
       " 'V;PST;IND;3;PL',\n",
       " 'V;COND;3;PL;LGSPEC',\n",
       " 'V;PRS;IND;3;DU',\n",
       " 'V;PRS;IND;3;SG',\n",
       " 'V;POT;3;DU',\n",
       " 'V;COND;2;DU',\n",
       " 'V;IMP;1;DU',\n",
       " 'V;POT;3;SG',\n",
       " 'V;COND;2;PL',\n",
       " 'V;PST;IND;2;DU',\n",
       " 'V;IMP;1;PL',\n",
       " 'V;IMP;1;SG',\n",
       " 'V;COND;1;SG',\n",
       " 'V;PRS;IND;3;PL',\n",
       " 'V;POT;3;PL',\n",
       " 'V;COND;3;DU;LGSPEC',\n",
       " 'V;COND;2;DU;LGSPEC',\n",
       " 'V;PRS;IND;2;SG',\n",
       " 'V;COND;1;DU',\n",
       " 'V;PST;IND;3;DU',\n",
       " 'V;PRS;IND;2;DU',\n",
       " 'V;COND;1;PL',\n",
       " 'V;PST;IND;1;PL',\n",
       " 'V;PST;IND;1;SG',\n",
       " 'V;COND;1;SG;LGSPEC',\n",
       " 'V;COND;1;PL;LGSPEC',\n",
       " 'V;IMP;3;SG',\n",
       " 'V;POT;2;SG',\n",
       " 'V;PRS;IND;2;PL',\n",
       " 'V;POT;2;DU',\n",
       " 'V;IMP;3;DU',\n",
       " 'V;COND;3;SG',\n",
       " 'V;POT;2;PL',\n",
       " 'V;PST;IND;2;SG']"
      ]
     },
     "execution_count": 323,
     "metadata": {},
     "output_type": "execute_result"
    }
   ],
   "source": [
    "codigos_unicos"
   ]
  },
  {
   "cell_type": "code",
   "execution_count": 324,
   "metadata": {},
   "outputs": [],
   "source": [
    "indice_cod_ext = list(range(len(codigos_unicos)))"
   ]
  },
  {
   "cell_type": "code",
   "execution_count": 325,
   "metadata": {},
   "outputs": [],
   "source": [
    "codigos_extendidos = []\n",
    "lista_cod_ext = []\n",
    "lista_cod_ext_esp = []\n",
    "\n",
    "for elemento in indice_cod_ext:\n",
    "    lista_cod_ext = codigos_unicos[elemento]\n",
    "    lista_cod_ext_esp = lista_cod_ext.split(';')\n",
    "    codigos_extendidos += [lista_cod_ext_esp]"
   ]
  },
  {
   "cell_type": "code",
   "execution_count": 326,
   "metadata": {},
   "outputs": [
    {
     "data": {
      "text/plain": [
       "[['V', 'PRS', 'IND', '1', 'DU'],\n",
       " ['V', 'PRS', 'IND', '1', 'SG'],\n",
       " ['V', 'POT', '1', 'SG'],\n",
       " ['V', 'PST', 'IND', '3', 'SG'],\n",
       " ['V', 'COND', '2', 'SG', 'LGSPEC'],\n",
       " ['V', 'PST', 'IND', '2', 'PL'],\n",
       " ['V', 'PRS', 'IND', '1', 'PL'],\n",
       " ['V', 'POT', '1', 'DU'],\n",
       " ['V', 'IMP', '3', 'PL'],\n",
       " ['V', 'COND', '3', 'PL'],\n",
       " ['V', 'COND', '3', 'DU'],\n",
       " ['V', 'COND', '2', 'PL', 'LGSPEC'],\n",
       " ['V', 'IMP', '2', 'SG'],\n",
       " ['V', 'PST', 'IND', '1', 'DU'],\n",
       " ['V', 'COND', '3', 'SG', 'LGSPEC'],\n",
       " ['V', 'IMP', '2', 'DU'],\n",
       " ['V', 'COND', '2', 'SG'],\n",
       " ['V', 'IMP', '2', 'PL'],\n",
       " ['V', 'POT', '1', 'PL'],\n",
       " ['V', 'COND', '1', 'DU', 'LGSPEC'],\n",
       " ['V', 'PST', 'IND', '3', 'PL'],\n",
       " ['V', 'COND', '3', 'PL', 'LGSPEC'],\n",
       " ['V', 'PRS', 'IND', '3', 'DU'],\n",
       " ['V', 'PRS', 'IND', '3', 'SG'],\n",
       " ['V', 'POT', '3', 'DU'],\n",
       " ['V', 'COND', '2', 'DU'],\n",
       " ['V', 'IMP', '1', 'DU'],\n",
       " ['V', 'POT', '3', 'SG'],\n",
       " ['V', 'COND', '2', 'PL'],\n",
       " ['V', 'PST', 'IND', '2', 'DU'],\n",
       " ['V', 'IMP', '1', 'PL'],\n",
       " ['V', 'IMP', '1', 'SG'],\n",
       " ['V', 'COND', '1', 'SG'],\n",
       " ['V', 'PRS', 'IND', '3', 'PL'],\n",
       " ['V', 'POT', '3', 'PL'],\n",
       " ['V', 'COND', '3', 'DU', 'LGSPEC'],\n",
       " ['V', 'COND', '2', 'DU', 'LGSPEC'],\n",
       " ['V', 'PRS', 'IND', '2', 'SG'],\n",
       " ['V', 'COND', '1', 'DU'],\n",
       " ['V', 'PST', 'IND', '3', 'DU'],\n",
       " ['V', 'PRS', 'IND', '2', 'DU'],\n",
       " ['V', 'COND', '1', 'PL'],\n",
       " ['V', 'PST', 'IND', '1', 'PL'],\n",
       " ['V', 'PST', 'IND', '1', 'SG'],\n",
       " ['V', 'COND', '1', 'SG', 'LGSPEC'],\n",
       " ['V', 'COND', '1', 'PL', 'LGSPEC'],\n",
       " ['V', 'IMP', '3', 'SG'],\n",
       " ['V', 'POT', '2', 'SG'],\n",
       " ['V', 'PRS', 'IND', '2', 'PL'],\n",
       " ['V', 'POT', '2', 'DU'],\n",
       " ['V', 'IMP', '3', 'DU'],\n",
       " ['V', 'COND', '3', 'SG'],\n",
       " ['V', 'POT', '2', 'PL'],\n",
       " ['V', 'PST', 'IND', '2', 'SG']]"
      ]
     },
     "execution_count": 326,
     "metadata": {},
     "output_type": "execute_result"
    }
   ],
   "source": [
    "codigos_extendidos"
   ]
  },
  {
   "cell_type": "code",
   "execution_count": 327,
   "metadata": {},
   "outputs": [],
   "source": [
    "indice_cod_ext = list(range(len(codigos_extendidos)))"
   ]
  },
  {
   "cell_type": "code",
   "execution_count": 328,
   "metadata": {},
   "outputs": [],
   "source": [
    "numero_codigos = []\n",
    "\n",
    "for elemento in codigos_extendidos:\n",
    "    numero_codigos += [len(elemento)]"
   ]
  },
  {
   "cell_type": "code",
   "execution_count": 329,
   "metadata": {},
   "outputs": [
    {
     "data": {
      "text/plain": [
       "[5,\n",
       " 5,\n",
       " 4,\n",
       " 5,\n",
       " 5,\n",
       " 5,\n",
       " 5,\n",
       " 4,\n",
       " 4,\n",
       " 4,\n",
       " 4,\n",
       " 5,\n",
       " 4,\n",
       " 5,\n",
       " 5,\n",
       " 4,\n",
       " 4,\n",
       " 4,\n",
       " 4,\n",
       " 5,\n",
       " 5,\n",
       " 5,\n",
       " 5,\n",
       " 5,\n",
       " 4,\n",
       " 4,\n",
       " 4,\n",
       " 4,\n",
       " 4,\n",
       " 5,\n",
       " 4,\n",
       " 4,\n",
       " 4,\n",
       " 5,\n",
       " 4,\n",
       " 5,\n",
       " 5,\n",
       " 5,\n",
       " 4,\n",
       " 5,\n",
       " 5,\n",
       " 4,\n",
       " 5,\n",
       " 5,\n",
       " 5,\n",
       " 5,\n",
       " 4,\n",
       " 4,\n",
       " 5,\n",
       " 4,\n",
       " 4,\n",
       " 4,\n",
       " 4,\n",
       " 5]"
      ]
     },
     "execution_count": 329,
     "metadata": {},
     "output_type": "execute_result"
    }
   ],
   "source": [
    "numero_codigos"
   ]
  },
  {
   "cell_type": "code",
   "execution_count": 330,
   "metadata": {},
   "outputs": [],
   "source": [
    "suma_codigos = 0\n",
    "\n",
    "for elemento in numero_codigos:\n",
    "    suma_codigos += elemento"
   ]
  },
  {
   "cell_type": "code",
   "execution_count": 331,
   "metadata": {},
   "outputs": [],
   "source": [
    "promedio_codigos = suma_codigos/ len(codigos_unicos)"
   ]
  },
  {
   "cell_type": "code",
   "execution_count": 332,
   "metadata": {},
   "outputs": [
    {
     "data": {
      "text/plain": [
       "4.5"
      ]
     },
     "execution_count": 332,
     "metadata": {},
     "output_type": "execute_result"
    }
   ],
   "source": [
    "promedio_codigos"
   ]
  }
 ],
 "metadata": {
  "colab": {
   "name": "unimorph-tarea-1.ipynb",
   "provenance": []
  },
  "kernelspec": {
   "display_name": "Python 3",
   "language": "python",
   "name": "python3"
  },
  "language_info": {
   "codemirror_mode": {
    "name": "ipython",
    "version": 3
   },
   "file_extension": ".py",
   "mimetype": "text/x-python",
   "name": "python",
   "nbconvert_exporter": "python",
   "pygments_lexer": "ipython3",
   "version": "3.7.6"
  }
 },
 "nbformat": 4,
 "nbformat_minor": 5
}
